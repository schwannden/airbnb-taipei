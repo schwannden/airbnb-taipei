{
 "cells": [
  {
   "cell_type": "code",
   "execution_count": 1,
   "id": "1835363b-3012-49e6-95ce-a4c47d7d5bf8",
   "metadata": {},
   "outputs": [],
   "source": [
    "import pandas as pd\n",
    "import numpy as np\n",
    "\n",
    "import matplotlib.pyplot as plt\n",
    "plt.style.use('seaborn')\n",
    "import seaborn as sns\n",
    "\n",
    "import re\n",
    "import xgboost as xgb\n",
    "\n",
    "import warnings\n",
    "warnings.filterwarnings(\"ignore\")"
   ]
  },
  {
   "cell_type": "code",
   "execution_count": 2,
   "id": "03b74086-2251-4cb7-9ecc-55c0599df9bb",
   "metadata": {},
   "outputs": [
    {
     "data": {
      "text/plain": [
       "id                                  int64\n",
       "name                               object\n",
       "host_id                             int64\n",
       "host_name                          object\n",
       "neighbourhood_group               float64\n",
       "neighbourhood                      object\n",
       "latitude                          float64\n",
       "longitude                         float64\n",
       "room_type                          object\n",
       "price                               int64\n",
       "minimum_nights                      int64\n",
       "number_of_reviews                   int64\n",
       "last_review                        object\n",
       "reviews_per_month                 float64\n",
       "calculated_host_listings_count      int64\n",
       "availability_365                    int64\n",
       "dtype: object"
      ]
     },
     "execution_count": 2,
     "metadata": {},
     "output_type": "execute_result"
    }
   ],
   "source": [
    "schema = {\n",
    "    \"id\": np.int64,\n",
    "    \"name\": np.str,\n",
    "    \"host_id\": np.int64,\n",
    "    \"host_name\": object,\n",
    "    \"neighbourhood_group\": np.float64,\n",
    "    \"neighbourhood\": object,\n",
    "    \"latitude\": np.float64,\n",
    "    \"longitude\": np.float64,\n",
    "    \"room_type\": object,\n",
    "    \"price\": np.int64,\n",
    "    \"minimum_nights\": np.int64,\n",
    "    \"number_of_reviews\": np.int64,\n",
    "    \"last_review\": object,\n",
    "    \"reviews_per_month\": np.float64,\n",
    "    \"calculated_host_listings_count\": np.int64,\n",
    "    \"availability_365\": np.int64\n",
    "}\n",
    "df_raw = pd.read_csv('data/summary_listings.csv', low_memory=False, dtype=schema)\n",
    "df_raw.dtypes"
   ]
  },
  {
   "cell_type": "code",
   "execution_count": 3,
   "id": "167d4f5e-da60-4d09-bd01-4c39d28e9f29",
   "metadata": {},
   "outputs": [],
   "source": [
    "TARGET = 'price'"
   ]
  },
  {
   "cell_type": "markdown",
   "id": "7d0d2b08-308f-4f95-95cc-ac55ff1f2e4b",
   "metadata": {},
   "source": [
    "## data summary"
   ]
  },
  {
   "cell_type": "code",
   "execution_count": 4,
   "id": "7862b732-4b08-41d2-aed8-9e006626d7af",
   "metadata": {},
   "outputs": [
    {
     "name": "stdout",
     "output_type": "stream",
     "text": [
      "It contains 57146 rows and 16 columns.\n",
      "It contains 1971 duplicates.\n",
      "It contains 0 missing target.\n"
     ]
    }
   ],
   "source": [
    "print(\"It contains {} rows and {} columns.\".format(*df_raw.shape))\n",
    "print(\"It contains {} duplicates.\".format(df_raw.duplicated().sum()))\n",
    "print(\"It contains {} missing target.\".format(df_raw[TARGET].isna().sum()))"
   ]
  },
  {
   "cell_type": "code",
   "execution_count": 5,
   "id": "089e9db5-fdfe-421f-b9e7-62dc350f65b0",
   "metadata": {},
   "outputs": [
    {
     "data": {
      "text/plain": [
       "Entire home/apt    0.496483\n",
       "Private room       0.349211\n",
       "Shared room        0.081756\n",
       "Hotel room         0.072551\n",
       "Name: room_type, dtype: float64"
      ]
     },
     "execution_count": 5,
     "metadata": {},
     "output_type": "execute_result"
    }
   ],
   "source": [
    "df_raw.room_type.value_counts(normalize=True)"
   ]
  },
  {
   "cell_type": "code",
   "execution_count": 6,
   "id": "7d716768-6d63-4340-8eec-b29811effb47",
   "metadata": {},
   "outputs": [
    {
     "data": {
      "text/plain": [
       "count     57146.000000\n",
       "mean       2513.964319\n",
       "std        8802.659046\n",
       "min           0.000000\n",
       "25%         945.000000\n",
       "50%        1494.000000\n",
       "75%        2452.000000\n",
       "max      300255.000000\n",
       "Name: price, dtype: float64"
      ]
     },
     "execution_count": 6,
     "metadata": {},
     "output_type": "execute_result"
    }
   ],
   "source": [
    "df_raw[TARGET].describe()"
   ]
  },
  {
   "cell_type": "code",
   "execution_count": 7,
   "id": "31357597-56cb-4c09-8762-25e339ec7b42",
   "metadata": {},
   "outputs": [
    {
     "data": {
      "image/png": "[encoded data removed]",
      "text/plain": [
       "<Figure size 1152x144 with 1 Axes>"
      ]
     },
     "metadata": {},
     "output_type": "display_data"
    }
   ],
   "source": [
    "red_square = dict(markerfacecolor='r', markeredgecolor='r', marker='.')\n",
    "df_raw[TARGET].plot(kind='box', xlim=(0, 1000), vert=False, flierprops=red_square, figsize=(16,2));"
   ]
  },
  {
   "cell_type": "markdown",
   "id": "5ae21a54-e711-4bc9-a8fb-71a969e1d4b5",
   "metadata": {},
   "source": [
    "## Imputing Data"
   ]
  },
  {
   "cell_type": "code",
   "execution_count": 8,
   "id": "fd41e130-01a5-4eb1-b019-5d1caab3aafd",
   "metadata": {},
   "outputs": [
    {
     "data": {
      "text/plain": [
       "id                                    0\n",
       "name                                 18\n",
       "host_id                               0\n",
       "host_name                           331\n",
       "neighbourhood_group               57146\n",
       "neighbourhood                         0\n",
       "latitude                              0\n",
       "longitude                             0\n",
       "room_type                             0\n",
       "price                                 0\n",
       "minimum_nights                        0\n",
       "number_of_reviews                     0\n",
       "last_review                       13514\n",
       "reviews_per_month                 13514\n",
       "calculated_host_listings_count        0\n",
       "availability_365                      0\n",
       "dtype: int64"
      ]
     },
     "execution_count": 8,
     "metadata": {},
     "output_type": "execute_result"
    }
   ],
   "source": [
    "df_raw.isna().sum()"
   ]
  },
  {
   "cell_type": "code",
   "execution_count": 9,
   "id": "590b5660-9f3f-4120-84c2-1e86445e33f2",
   "metadata": {},
   "outputs": [
    {
     "data": {
      "text/plain": [
       "id                                   int64\n",
       "host_id                              int64\n",
       "neighbourhood                     category\n",
       "latitude                           float64\n",
       "longitude                          float64\n",
       "room_type                         category\n",
       "minimum_nights                       int64\n",
       "number_of_reviews                    int64\n",
       "reviews_per_month                  float64\n",
       "calculated_host_listings_count       int64\n",
       "availability_365                     int64\n",
       "dtype: object"
      ]
     },
     "execution_count": 9,
     "metadata": {},
     "output_type": "execute_result"
    }
   ],
   "source": [
    "df_train = df_raw.drop(columns=['neighbourhood_group', 'name', 'host_name', 'last_review'])\n",
    "df_train.reviews_per_month.fillna(value=0, inplace=True)\n",
    "df_train['neighbourhood'] = df_train.neighbourhood.astype('category')\n",
    "df_train['room_type'] = df_train.room_type.astype('category')\n",
    "df_target = df_train[[TARGET]]\n",
    "df_train.drop(columns=[TARGET], inplace=True)\n",
    "df_train.dtypes"
   ]
  },
  {
   "cell_type": "code",
   "execution_count": 10,
   "id": "4636a62e-5691-4d0d-94be-8814f7b077bd",
   "metadata": {},
   "outputs": [
    {
     "data": {
      "text/html": [
       "<div>\n",
       "<style scoped>\n",
       "    .dataframe tbody tr th:only-of-type {\n",
       "        vertical-align: middle;\n",
       "    }\n",
       "\n",
       "    .dataframe tbody tr th {\n",
       "        vertical-align: top;\n",
       "    }\n",
       "\n",
       "    .dataframe thead th {\n",
       "        text-align: right;\n",
       "    }\n",
       "</style>\n",
       "<table border=\"1\" class=\"dataframe\">\n",
       "  <thead>\n",
       "    <tr style=\"text-align: right;\">\n",
       "      <th></th>\n",
       "      <th>id</th>\n",
       "      <th>host_id</th>\n",
       "      <th>latitude</th>\n",
       "      <th>longitude</th>\n",
       "      <th>minimum_nights</th>\n",
       "      <th>number_of_reviews</th>\n",
       "      <th>reviews_per_month</th>\n",
       "      <th>calculated_host_listings_count</th>\n",
       "      <th>availability_365</th>\n",
       "      <th>neighbourhood_中山區</th>\n",
       "      <th>...</th>\n",
       "      <th>neighbourhood_士林區</th>\n",
       "      <th>neighbourhood_大同區</th>\n",
       "      <th>neighbourhood_大安區</th>\n",
       "      <th>neighbourhood_文山區</th>\n",
       "      <th>neighbourhood_松山區</th>\n",
       "      <th>neighbourhood_萬華區</th>\n",
       "      <th>room_type_Entire home/apt</th>\n",
       "      <th>room_type_Hotel room</th>\n",
       "      <th>room_type_Private room</th>\n",
       "      <th>room_type_Shared room</th>\n",
       "    </tr>\n",
       "  </thead>\n",
       "  <tbody>\n",
       "    <tr>\n",
       "      <th>0</th>\n",
       "      <td>74641</td>\n",
       "      <td>393116</td>\n",
       "      <td>25.05159</td>\n",
       "      <td>121.54747</td>\n",
       "      <td>3</td>\n",
       "      <td>49</td>\n",
       "      <td>0.47</td>\n",
       "      <td>4</td>\n",
       "      <td>88</td>\n",
       "      <td>0</td>\n",
       "      <td>...</td>\n",
       "      <td>0</td>\n",
       "      <td>0</td>\n",
       "      <td>0</td>\n",
       "      <td>0</td>\n",
       "      <td>1</td>\n",
       "      <td>0</td>\n",
       "      <td>0</td>\n",
       "      <td>0</td>\n",
       "      <td>1</td>\n",
       "      <td>0</td>\n",
       "    </tr>\n",
       "    <tr>\n",
       "      <th>1</th>\n",
       "      <td>74643</td>\n",
       "      <td>393116</td>\n",
       "      <td>25.05067</td>\n",
       "      <td>121.54568</td>\n",
       "      <td>3</td>\n",
       "      <td>52</td>\n",
       "      <td>0.46</td>\n",
       "      <td>4</td>\n",
       "      <td>90</td>\n",
       "      <td>0</td>\n",
       "      <td>...</td>\n",
       "      <td>0</td>\n",
       "      <td>0</td>\n",
       "      <td>0</td>\n",
       "      <td>0</td>\n",
       "      <td>1</td>\n",
       "      <td>0</td>\n",
       "      <td>0</td>\n",
       "      <td>0</td>\n",
       "      <td>1</td>\n",
       "      <td>0</td>\n",
       "    </tr>\n",
       "    <tr>\n",
       "      <th>2</th>\n",
       "      <td>178036</td>\n",
       "      <td>851825</td>\n",
       "      <td>25.04446</td>\n",
       "      <td>121.51346</td>\n",
       "      <td>1</td>\n",
       "      <td>77</td>\n",
       "      <td>0.71</td>\n",
       "      <td>9</td>\n",
       "      <td>149</td>\n",
       "      <td>0</td>\n",
       "      <td>...</td>\n",
       "      <td>0</td>\n",
       "      <td>0</td>\n",
       "      <td>0</td>\n",
       "      <td>0</td>\n",
       "      <td>0</td>\n",
       "      <td>0</td>\n",
       "      <td>0</td>\n",
       "      <td>1</td>\n",
       "      <td>0</td>\n",
       "      <td>0</td>\n",
       "    </tr>\n",
       "    <tr>\n",
       "      <th>3</th>\n",
       "      <td>271733</td>\n",
       "      <td>242033</td>\n",
       "      <td>25.00384</td>\n",
       "      <td>121.55573</td>\n",
       "      <td>5</td>\n",
       "      <td>60</td>\n",
       "      <td>0.58</td>\n",
       "      <td>1</td>\n",
       "      <td>52</td>\n",
       "      <td>0</td>\n",
       "      <td>...</td>\n",
       "      <td>0</td>\n",
       "      <td>0</td>\n",
       "      <td>0</td>\n",
       "      <td>1</td>\n",
       "      <td>0</td>\n",
       "      <td>0</td>\n",
       "      <td>1</td>\n",
       "      <td>0</td>\n",
       "      <td>0</td>\n",
       "      <td>0</td>\n",
       "    </tr>\n",
       "    <tr>\n",
       "      <th>4</th>\n",
       "      <td>289296</td>\n",
       "      <td>1338052</td>\n",
       "      <td>25.04335</td>\n",
       "      <td>121.55007</td>\n",
       "      <td>28</td>\n",
       "      <td>25</td>\n",
       "      <td>0.37</td>\n",
       "      <td>3</td>\n",
       "      <td>365</td>\n",
       "      <td>0</td>\n",
       "      <td>...</td>\n",
       "      <td>0</td>\n",
       "      <td>0</td>\n",
       "      <td>1</td>\n",
       "      <td>0</td>\n",
       "      <td>0</td>\n",
       "      <td>0</td>\n",
       "      <td>1</td>\n",
       "      <td>0</td>\n",
       "      <td>0</td>\n",
       "      <td>0</td>\n",
       "    </tr>\n",
       "    <tr>\n",
       "      <th>...</th>\n",
       "      <td>...</td>\n",
       "      <td>...</td>\n",
       "      <td>...</td>\n",
       "      <td>...</td>\n",
       "      <td>...</td>\n",
       "      <td>...</td>\n",
       "      <td>...</td>\n",
       "      <td>...</td>\n",
       "      <td>...</td>\n",
       "      <td>...</td>\n",
       "      <td>...</td>\n",
       "      <td>...</td>\n",
       "      <td>...</td>\n",
       "      <td>...</td>\n",
       "      <td>...</td>\n",
       "      <td>...</td>\n",
       "      <td>...</td>\n",
       "      <td>...</td>\n",
       "      <td>...</td>\n",
       "      <td>...</td>\n",
       "      <td>...</td>\n",
       "    </tr>\n",
       "    <tr>\n",
       "      <th>57141</th>\n",
       "      <td>47340531</td>\n",
       "      <td>342671760</td>\n",
       "      <td>25.06185</td>\n",
       "      <td>121.52401</td>\n",
       "      <td>1</td>\n",
       "      <td>0</td>\n",
       "      <td>0.00</td>\n",
       "      <td>4</td>\n",
       "      <td>85</td>\n",
       "      <td>1</td>\n",
       "      <td>...</td>\n",
       "      <td>0</td>\n",
       "      <td>0</td>\n",
       "      <td>0</td>\n",
       "      <td>0</td>\n",
       "      <td>0</td>\n",
       "      <td>0</td>\n",
       "      <td>1</td>\n",
       "      <td>0</td>\n",
       "      <td>0</td>\n",
       "      <td>0</td>\n",
       "    </tr>\n",
       "    <tr>\n",
       "      <th>57142</th>\n",
       "      <td>47340779</td>\n",
       "      <td>342671760</td>\n",
       "      <td>25.06049</td>\n",
       "      <td>121.52217</td>\n",
       "      <td>1</td>\n",
       "      <td>0</td>\n",
       "      <td>0.00</td>\n",
       "      <td>4</td>\n",
       "      <td>0</td>\n",
       "      <td>1</td>\n",
       "      <td>...</td>\n",
       "      <td>0</td>\n",
       "      <td>0</td>\n",
       "      <td>0</td>\n",
       "      <td>0</td>\n",
       "      <td>0</td>\n",
       "      <td>0</td>\n",
       "      <td>1</td>\n",
       "      <td>0</td>\n",
       "      <td>0</td>\n",
       "      <td>0</td>\n",
       "    </tr>\n",
       "    <tr>\n",
       "      <th>57143</th>\n",
       "      <td>47340989</td>\n",
       "      <td>342671760</td>\n",
       "      <td>25.06086</td>\n",
       "      <td>121.52301</td>\n",
       "      <td>1</td>\n",
       "      <td>0</td>\n",
       "      <td>0.00</td>\n",
       "      <td>4</td>\n",
       "      <td>85</td>\n",
       "      <td>1</td>\n",
       "      <td>...</td>\n",
       "      <td>0</td>\n",
       "      <td>0</td>\n",
       "      <td>0</td>\n",
       "      <td>0</td>\n",
       "      <td>0</td>\n",
       "      <td>0</td>\n",
       "      <td>1</td>\n",
       "      <td>0</td>\n",
       "      <td>0</td>\n",
       "      <td>0</td>\n",
       "    </tr>\n",
       "    <tr>\n",
       "      <th>57144</th>\n",
       "      <td>47352089</td>\n",
       "      <td>195544407</td>\n",
       "      <td>25.05092</td>\n",
       "      <td>121.51417</td>\n",
       "      <td>1</td>\n",
       "      <td>0</td>\n",
       "      <td>0.00</td>\n",
       "      <td>1</td>\n",
       "      <td>0</td>\n",
       "      <td>0</td>\n",
       "      <td>...</td>\n",
       "      <td>0</td>\n",
       "      <td>1</td>\n",
       "      <td>0</td>\n",
       "      <td>0</td>\n",
       "      <td>0</td>\n",
       "      <td>0</td>\n",
       "      <td>1</td>\n",
       "      <td>0</td>\n",
       "      <td>0</td>\n",
       "      <td>0</td>\n",
       "    </tr>\n",
       "    <tr>\n",
       "      <th>57145</th>\n",
       "      <td>47354873</td>\n",
       "      <td>23097622</td>\n",
       "      <td>25.03354</td>\n",
       "      <td>121.50519</td>\n",
       "      <td>1</td>\n",
       "      <td>0</td>\n",
       "      <td>0.00</td>\n",
       "      <td>13</td>\n",
       "      <td>365</td>\n",
       "      <td>0</td>\n",
       "      <td>...</td>\n",
       "      <td>0</td>\n",
       "      <td>0</td>\n",
       "      <td>0</td>\n",
       "      <td>0</td>\n",
       "      <td>0</td>\n",
       "      <td>1</td>\n",
       "      <td>0</td>\n",
       "      <td>0</td>\n",
       "      <td>1</td>\n",
       "      <td>0</td>\n",
       "    </tr>\n",
       "  </tbody>\n",
       "</table>\n",
       "<p>57146 rows × 25 columns</p>\n",
       "</div>"
      ],
      "text/plain": [
       "             id    host_id  latitude  longitude  minimum_nights  \\\n",
       "0         74641     393116  25.05159  121.54747               3   \n",
       "1         74643     393116  25.05067  121.54568               3   \n",
       "2        178036     851825  25.04446  121.51346               1   \n",
       "3        271733     242033  25.00384  121.55573               5   \n",
       "4        289296    1338052  25.04335  121.55007              28   \n",
       "...         ...        ...       ...        ...             ...   \n",
       "57141  47340531  342671760  25.06185  121.52401               1   \n",
       "57142  47340779  342671760  25.06049  121.52217               1   \n",
       "57143  47340989  342671760  25.06086  121.52301               1   \n",
       "57144  47352089  195544407  25.05092  121.51417               1   \n",
       "57145  47354873   23097622  25.03354  121.50519               1   \n",
       "\n",
       "       number_of_reviews  reviews_per_month  calculated_host_listings_count  \\\n",
       "0                     49               0.47                               4   \n",
       "1                     52               0.46                               4   \n",
       "2                     77               0.71                               9   \n",
       "3                     60               0.58                               1   \n",
       "4                     25               0.37                               3   \n",
       "...                  ...                ...                             ...   \n",
       "57141                  0               0.00                               4   \n",
       "57142                  0               0.00                               4   \n",
       "57143                  0               0.00                               4   \n",
       "57144                  0               0.00                               1   \n",
       "57145                  0               0.00                              13   \n",
       "\n",
       "       availability_365  neighbourhood_中山區  ...  neighbourhood_士林區  \\\n",
       "0                    88                  0  ...                  0   \n",
       "1                    90                  0  ...                  0   \n",
       "2                   149                  0  ...                  0   \n",
       "3                    52                  0  ...                  0   \n",
       "4                   365                  0  ...                  0   \n",
       "...                 ...                ...  ...                ...   \n",
       "57141                85                  1  ...                  0   \n",
       "57142                 0                  1  ...                  0   \n",
       "57143                85                  1  ...                  0   \n",
       "57144                 0                  0  ...                  0   \n",
       "57145               365                  0  ...                  0   \n",
       "\n",
       "       neighbourhood_大同區  neighbourhood_大安區  neighbourhood_文山區  \\\n",
       "0                      0                  0                  0   \n",
       "1                      0                  0                  0   \n",
       "2                      0                  0                  0   \n",
       "3                      0                  0                  1   \n",
       "4                      0                  1                  0   \n",
       "...                  ...                ...                ...   \n",
       "57141                  0                  0                  0   \n",
       "57142                  0                  0                  0   \n",
       "57143                  0                  0                  0   \n",
       "57144                  1                  0                  0   \n",
       "57145                  0                  0                  0   \n",
       "\n",
       "       neighbourhood_松山區  neighbourhood_萬華區  room_type_Entire home/apt  \\\n",
       "0                      1                  0                          0   \n",
       "1                      1                  0                          0   \n",
       "2                      0                  0                          0   \n",
       "3                      0                  0                          1   \n",
       "4                      0                  0                          1   \n",
       "...                  ...                ...                        ...   \n",
       "57141                  0                  0                          1   \n",
       "57142                  0                  0                          1   \n",
       "57143                  0                  0                          1   \n",
       "57144                  0                  0                          1   \n",
       "57145                  0                  1                          0   \n",
       "\n",
       "       room_type_Hotel room  room_type_Private room  room_type_Shared room  \n",
       "0                         0                       1                      0  \n",
       "1                         0                       1                      0  \n",
       "2                         1                       0                      0  \n",
       "3                         0                       0                      0  \n",
       "4                         0                       0                      0  \n",
       "...                     ...                     ...                    ...  \n",
       "57141                     0                       0                      0  \n",
       "57142                     0                       0                      0  \n",
       "57143                     0                       0                      0  \n",
       "57144                     0                       0                      0  \n",
       "57145                     0                       1                      0  \n",
       "\n",
       "[57146 rows x 25 columns]"
      ]
     },
     "execution_count": 10,
     "metadata": {},
     "output_type": "execute_result"
    }
   ],
   "source": [
    "# one-hot encoding of categorical features\n",
    "cat_feats = df_train.select_dtypes(include=['category']).copy()\n",
    "cat_feats_original_names = cat_feats.columns\n",
    "cat_feats = pd.get_dummies(cat_feats)\n",
    "df_train_encoded = pd.concat([df_train, cat_feats], axis=1)\n",
    "df_train_encoded.drop(columns=cat_feats_original_names, inplace=True)\n",
    "df_train_encoded"
   ]
  },
  {
   "cell_type": "markdown",
   "id": "e9b44020-fb94-4221-a098-e7ba9ab61d0e",
   "metadata": {},
   "source": [
    "## split and scale data"
   ]
  },
  {
   "cell_type": "code",
   "execution_count": 11,
   "id": "ca9e6601-b275-4216-b372-9edd7a9616e4",
   "metadata": {},
   "outputs": [],
   "source": [
    "from sklearn.model_selection import train_test_split\n",
    "from sklearn.metrics import mean_squared_error, r2_score\n",
    "\n",
    "# split our data\n",
    "X_train, X_test, y_train, y_test = train_test_split(df_train_encoded, df_target, test_size=0.2)"
   ]
  },
  {
   "cell_type": "code",
   "execution_count": 12,
   "id": "212dbcd7-c8a2-43e2-ba5f-516205c51dd8",
   "metadata": {},
   "outputs": [
    {
     "data": {
      "text/html": [
       "<div>\n",
       "<style scoped>\n",
       "    .dataframe tbody tr th:only-of-type {\n",
       "        vertical-align: middle;\n",
       "    }\n",
       "\n",
       "    .dataframe tbody tr th {\n",
       "        vertical-align: top;\n",
       "    }\n",
       "\n",
       "    .dataframe thead th {\n",
       "        text-align: right;\n",
       "    }\n",
       "</style>\n",
       "<table border=\"1\" class=\"dataframe\">\n",
       "  <thead>\n",
       "    <tr style=\"text-align: right;\">\n",
       "      <th></th>\n",
       "      <th>price</th>\n",
       "    </tr>\n",
       "  </thead>\n",
       "  <tbody>\n",
       "    <tr>\n",
       "      <th>14222</th>\n",
       "      <td>3800</td>\n",
       "    </tr>\n",
       "    <tr>\n",
       "      <th>38312</th>\n",
       "      <td>3504</td>\n",
       "    </tr>\n",
       "    <tr>\n",
       "      <th>48541</th>\n",
       "      <td>3488</td>\n",
       "    </tr>\n",
       "    <tr>\n",
       "      <th>46266</th>\n",
       "      <td>690</td>\n",
       "    </tr>\n",
       "    <tr>\n",
       "      <th>32206</th>\n",
       "      <td>5482</td>\n",
       "    </tr>\n",
       "    <tr>\n",
       "      <th>...</th>\n",
       "      <td>...</td>\n",
       "    </tr>\n",
       "    <tr>\n",
       "      <th>54632</th>\n",
       "      <td>337</td>\n",
       "    </tr>\n",
       "    <tr>\n",
       "      <th>1149</th>\n",
       "      <td>738</td>\n",
       "    </tr>\n",
       "    <tr>\n",
       "      <th>11671</th>\n",
       "      <td>559</td>\n",
       "    </tr>\n",
       "    <tr>\n",
       "      <th>54457</th>\n",
       "      <td>866</td>\n",
       "    </tr>\n",
       "    <tr>\n",
       "      <th>50783</th>\n",
       "      <td>1751</td>\n",
       "    </tr>\n",
       "  </tbody>\n",
       "</table>\n",
       "<p>45716 rows × 1 columns</p>\n",
       "</div>"
      ],
      "text/plain": [
       "       price\n",
       "14222   3800\n",
       "38312   3504\n",
       "48541   3488\n",
       "46266    690\n",
       "32206   5482\n",
       "...      ...\n",
       "54632    337\n",
       "1149     738\n",
       "11671    559\n",
       "54457    866\n",
       "50783   1751\n",
       "\n",
       "[45716 rows x 1 columns]"
      ]
     },
     "execution_count": 12,
     "metadata": {},
     "output_type": "execute_result"
    }
   ],
   "source": [
    "y_train"
   ]
  },
  {
   "cell_type": "code",
   "execution_count": 13,
   "id": "61b31680-6178-48fe-b07c-eebe5e945ccb",
   "metadata": {},
   "outputs": [],
   "source": [
    "booster = xgb.XGBRegressor(tree_method='gpu_hist', gpu_id=0)"
   ]
  },
  {
   "cell_type": "code",
   "execution_count": 17,
   "id": "13f86306-5efb-42f3-8498-6a57edeb38f6",
   "metadata": {},
   "outputs": [
    {
     "name": "stdout",
     "output_type": "stream",
     "text": [
      "{'colsample_bytree': 0.6, 'gamma': 0.0, 'learning_rate': 0.1, 'max_depth': 7, 'n_estimators': 200}\n"
     ]
    }
   ],
   "source": [
    "from sklearn.model_selection import GridSearchCV\n",
    "\n",
    "# create Grid\n",
    "param_grid = {'n_estimators': [100, 150, 200],\n",
    "              'learning_rate': [0.01, 0.05, 0.1], \n",
    "              'max_depth': [3, 4, 5, 6, 7],\n",
    "              'colsample_bytree': [0.6, 0.7, 1],\n",
    "              'gamma': [0.0, 0.1, 0.2]}\n",
    "\n",
    "# instantiate the tuned random forest\n",
    "booster_grid_search = GridSearchCV(booster, param_grid, cv=3, n_jobs=-1)\n",
    "\n",
    "# train the tuned random forest\n",
    "booster_grid_search.fit(X_train, y_train)\n",
    "\n",
    "# print best estimator parameters found during the grid search\n",
    "print(booster_grid_search.best_params_)"
   ]
  },
  {
   "cell_type": "code",
   "execution_count": 21,
   "id": "d578f05a-a7c4-4c38-9ea8-0ba82eccfdb8",
   "metadata": {},
   "outputs": [
    {
     "data": {
      "text/plain": [
       "{'colsample_bytree': 0.6,\n",
       " 'gamma': 0.0,\n",
       " 'learning_rate': 0.1,\n",
       " 'max_depth': 7,\n",
       " 'n_estimators': 200}"
      ]
     },
     "execution_count": 21,
     "metadata": {},
     "output_type": "execute_result"
    }
   ],
   "source": [
    "bestparams = booster_grid_search.best_params_\n",
    "bestparams"
   ]
  },
  {
   "cell_type": "code",
   "execution_count": 24,
   "id": "299812f4-d11d-423f-bfda-6859c36953af",
   "metadata": {},
   "outputs": [
    {
     "data": {
      "text/plain": [
       "XGBRegressor(base_score=0.5, booster='gbtree', colsample_bylevel=1,\n",
       "             colsample_bynode=1, colsample_bytree=0.6, gamma=0.0, gpu_id=0,\n",
       "             importance_type='gain', interaction_constraints='',\n",
       "             learning_rate=0.1, max_delta_step=0, max_depth=7,\n",
       "             min_child_weight=1, missing=nan, monotone_constraints='()',\n",
       "             n_estimators=200, n_jobs=12, num_parallel_tree=1, random_state=4,\n",
       "             reg_alpha=0, reg_lambda=1, scale_pos_weight=1, subsample=1,\n",
       "             tree_method='gpu_hist', validate_parameters=1, verbosity=None)"
      ]
     },
     "execution_count": 24,
     "metadata": {},
     "output_type": "execute_result"
    }
   ],
   "source": [
    "# instantiate xgboost with best parameters\n",
    "best_booster = xgb.XGBRegressor(\n",
    "    colsample_bytree=bestparams['colsample_bytree'],\n",
    "    gamma=bestparams['gamma'],\n",
    "    learning_rate=bestparams['learning_rate'],\n",
    "    max_depth=bestparams['max_depth'],\n",
    "    n_estimators=bestparams['n_estimators'],\n",
    "    random_state=4,\n",
    "    tree_method='gpu_hist', gpu_id=0\n",
    ")\n",
    "\n",
    "# train\n",
    "best_booster.fit(X_train, y_train)"
   ]
  },
  {
   "cell_type": "code",
   "execution_count": 25,
   "id": "f403e067-0864-4e72-ad2b-02b928796555",
   "metadata": {},
   "outputs": [
    {
     "name": "stdout",
     "output_type": "stream",
     "text": [
      "RMSE: 2643.9217\n"
     ]
    }
   ],
   "source": [
    "# predict\n",
    "y_pred_train = best_booster.predict(X_train)\n",
    "y_pred_test = best_booster.predict(X_test)\n",
    "RMSE = np.sqrt(mean_squared_error(y_test, y_pred_test))\n",
    "print(f\"RMSE: {round(RMSE, 4)}\")"
   ]
  },
  {
   "cell_type": "code",
   "execution_count": null,
   "id": "3f1b4f2e-bb6e-4d36-b8e3-20907f8cdf3f",
   "metadata": {},
   "outputs": [],
   "source": []
  }
 ],
 "metadata": {
  "kernelspec": {
   "display_name": "Python [conda env:airbnb] *",
   "language": "python",
   "name": "conda-env-airbnb-py"
  },
  "language_info": {
   "codemirror_mode": {
    "name": "ipython",
    "version": 3
   },
   "file_extension": ".py",
   "mimetype": "text/x-python",
   "name": "python",
   "nbconvert_exporter": "python",
   "pygments_lexer": "ipython3",
   "version": "3.8.10"
  }
 },
 "nbformat": 4,
 "nbformat_minor": 5
}
