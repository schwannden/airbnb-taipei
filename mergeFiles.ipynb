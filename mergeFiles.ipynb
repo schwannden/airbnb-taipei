{
 "cells": [
  {
   "cell_type": "markdown",
   "id": "91de7be5-cd78-49e2-9a1d-cc83dbc1559b",
   "metadata": {},
   "source": [
    "# Objective\n",
    "1. fetch file\n",
    "2. merge files across different time as a single file"
   ]
  },
  {
   "cell_type": "markdown",
   "id": "0fd691c9-3f90-421a-99a0-4fbd91b805db",
   "metadata": {},
   "source": [
    "# Fetch Files"
   ]
  },
  {
   "cell_type": "code",
   "execution_count": null,
   "id": "fe6d17c4-0f18-4511-b12b-97f4bea0aa2d",
   "metadata": {},
   "outputs": [],
   "source": [
    "!wget -O data/summary/listings202004.csv http://data.insideairbnb.com/taiwan/northern-taiwan/taipei/2020-04-30/visualisations/listings.csv\n",
    "!wget -O data/summary/listings202005.csv http://data.insideairbnb.com/taiwan/northern-taiwan/taipei/2020-05-31/visualisations/listings.csv\n",
    "!wget -O data/summary/listings202006.csv http://data.insideairbnb.com/taiwan/northern-taiwan/taipei/2020-06-29/visualisations/listings.csv\n",
    "!wget -O data/summary/listings202010.csv http://data.insideairbnb.com/taiwan/northern-taiwan/taipei/2020-10-30/visualisations/listings.csv\n",
    "!wget -O data/summary/listings202011.csv http://data.insideairbnb.com/taiwan/northern-taiwan/taipei/2020-11-30/visualisations/listings.csv\n",
    "!wget -O data/summary/listings202012.csv http://data.insideairbnb.com/taiwan/northern-taiwan/taipei/2020-12-31/visualisations/listings.csv\n",
    "!wget -O data/summary/listings202101.csv http://data.insideairbnb.com/taiwan/northern-taiwan/taipei/2021-01-30/visualisations/listings.csv\n",
    "!wget -O data/summary/listings202102.csv http://data.insideairbnb.com/taiwan/northern-taiwan/taipei/2021-02-27/visualisations/listings.csv\n",
    "!wget -O data/holdout/listings202103.csv http://data.insideairbnb.com/taiwan/northern-taiwan/taipei/2021-03-30/visualisations/listings.csv"
   ]
  },
  {
   "cell_type": "markdown",
   "id": "8c722c38-8daf-424b-a7bf-bdf78bb27a0b",
   "metadata": {},
   "source": [
    "# merge files"
   ]
  },
  {
   "cell_type": "code",
   "execution_count": 1,
   "id": "52dfb4e5-930e-407d-8f42-4d97ed091a85",
   "metadata": {},
   "outputs": [],
   "source": [
    "import pandas as pd"
   ]
  },
  {
   "cell_type": "code",
   "execution_count": 2,
   "id": "849103e9-d18e-4e84-910b-9d4c09d0d567",
   "metadata": {},
   "outputs": [],
   "source": [
    "from os import listdir\n",
    "from os.path import isfile, join\n",
    "import gzip\n",
    "import shutil\n",
    "import csv\n",
    "\n",
    "def getFiles(dir_path):\n",
    "    files = []\n",
    "    for file in listdir(dir_path):\n",
    "        file_path = join(dir_path, file)\n",
    "        if file_path.endswith(\".gz\"):\n",
    "            with gzip.open(file_path, 'rb') as f_in:\n",
    "                with open(file_path[:-3], 'wb') as f_out:\n",
    "                    shutil.copyfileobj(f_in, f_out)\n",
    "                files.append(file_path[:-3])\n",
    "        else:\n",
    "            files.append(file_path)\n",
    "    return [file for file in files if file.endswith('csv')]\n",
    "\n",
    "def mergeFiles(input_dir, file_type, output_dir, debug=False):\n",
    "    csvs = [csv for csv in getFiles(input_dir) if file_type in csv]\n",
    "    dfs = [pd.read_csv(csv, low_memory=False) for csv in csvs]\n",
    "    mergedFrame = pd.concat(dfs, axis=0, ignore_index=True)\n",
    "    tag = input_dir.split('/')[-1]\n",
    "    output_file = '%s/%s_%s.csv' % (output_dir, tag, file_type)\n",
    "    mergedFrame.to_csv(output_file, index=False, quoting=csv.QUOTE_ALL)\n"
   ]
  },
  {
   "cell_type": "code",
   "execution_count": 3,
   "id": "e3176b16-f315-47aa-aa77-aac5ca20c25a",
   "metadata": {},
   "outputs": [],
   "source": [
    "mergeFiles('data/summary', 'listings', 'data')\n",
    "mergeFiles('data/summary', 'reviews', 'data')"
   ]
  },
  {
   "cell_type": "code",
   "execution_count": 15,
   "id": "c65dabe5-c942-4d9a-b154-88bff75b003e",
   "metadata": {},
   "outputs": [
    {
     "data": {
      "text/plain": [
       "'20210708_225439'"
      ]
     },
     "execution_count": 15,
     "metadata": {},
     "output_type": "execute_result"
    }
   ],
   "source": [
    "from datetime import datetime\n",
    "datetime.now().strftime(\"%Y%m%d_%H%M%S\")"
   ]
  },
  {
   "cell_type": "code",
   "execution_count": null,
   "id": "6351cb07-9b0b-4878-8b9c-742bcb9e6490",
   "metadata": {},
   "outputs": [],
   "source": []
  }
 ],
 "metadata": {
  "kernelspec": {
   "display_name": "Python [conda env:airbnb] *",
   "language": "python",
   "name": "conda-env-airbnb-py"
  },
  "language_info": {
   "codemirror_mode": {
    "name": "ipython",
    "version": 3
   },
   "file_extension": ".py",
   "mimetype": "text/x-python",
   "name": "python",
   "nbconvert_exporter": "python",
   "pygments_lexer": "ipython3",
   "version": "3.8.10"
  }
 },
 "nbformat": 4,
 "nbformat_minor": 5
}
