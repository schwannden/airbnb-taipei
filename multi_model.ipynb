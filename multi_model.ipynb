{
 "cells": [
  {
   "cell_type": "code",
   "execution_count": 1,
   "id": "1835363b-3012-49e6-95ce-a4c47d7d5bf8",
   "metadata": {},
   "outputs": [],
   "source": [
    "import pandas as pd\n",
    "import numpy as np\n",
    "\n",
    "import matplotlib.pyplot as plt\n",
    "plt.style.use('seaborn')\n",
    "import seaborn as sns\n",
    "\n",
    "import re\n",
    "import xgboost as xgb\n",
    "\n",
    "import warnings\n",
    "warnings.filterwarnings(\"ignore\")"
   ]
  },
  {
   "cell_type": "code",
   "execution_count": 2,
   "id": "03b74086-2251-4cb7-9ecc-55c0599df9bb",
   "metadata": {},
   "outputs": [],
   "source": [
    "import utils\n",
    "df_raw = pd.read_csv('data/summary_listings.csv', low_memory=False, dtype=utils.schema)"
   ]
  },
  {
   "cell_type": "code",
   "execution_count": 3,
   "id": "167d4f5e-da60-4d09-bd01-4c39d28e9f29",
   "metadata": {},
   "outputs": [],
   "source": [
    "TARGET = 'price'"
   ]
  },
  {
   "cell_type": "markdown",
   "id": "5ae21a54-e711-4bc9-a8fb-71a969e1d4b5",
   "metadata": {},
   "source": [
    "# Imputing Data"
   ]
  },
  {
   "cell_type": "code",
   "execution_count": 4,
   "id": "590b5660-9f3f-4120-84c2-1e86445e33f2",
   "metadata": {},
   "outputs": [
    {
     "data": {
      "text/plain": [
       "id                                   int64\n",
       "host_id                              int64\n",
       "neighbourhood                     category\n",
       "latitude                           float64\n",
       "longitude                          float64\n",
       "room_type                         category\n",
       "price                                int64\n",
       "minimum_nights                       int64\n",
       "number_of_reviews                    int64\n",
       "reviews_per_month                  float64\n",
       "calculated_host_listings_count       int64\n",
       "availability_365                     int64\n",
       "dtype: object"
      ]
     },
     "execution_count": 4,
     "metadata": {},
     "output_type": "execute_result"
    }
   ],
   "source": [
    "df_train = df_raw.drop(columns=['neighbourhood_group', 'name', 'host_name', 'last_review'])\n",
    "df_train.reviews_per_month.fillna(value=0, inplace=True)\n",
    "df_train['neighbourhood'] = df_train.neighbourhood.astype('category')\n",
    "df_train['room_type'] = df_train.room_type.astype('category')\n",
    "df_train.dtypes"
   ]
  },
  {
   "cell_type": "markdown",
   "id": "e2243961-4b07-47e8-a4bc-e0d4eb9033f7",
   "metadata": {},
   "source": [
    "## Split data based on categorical column\n",
    "* level one splitting: neighbourhood\n",
    "* level 2 splitting: room_type"
   ]
  },
  {
   "cell_type": "code",
   "execution_count": 5,
   "id": "8ef42b25-2862-4961-9948-91a942dc64dc",
   "metadata": {},
   "outputs": [
    {
     "name": "stdout",
     "output_type": "stream",
     "text": [
      "松山區 / Private_room has 1102 rows\n",
      "松山區 / Hotel_room has 205 rows\n",
      "松山區 / Entire_home_apt has 1449 rows\n",
      "松山區 / Shared_room has 119 rows\n",
      "中正區 / Private_room has 3300 rows\n",
      "中正區 / Hotel_room has 621 rows\n",
      "中正區 / Entire_home_apt has 3715 rows\n",
      "中正區 / Shared_room has 1203 rows\n",
      "文山區 / Private_room has 520 rows\n",
      "文山區 / Hotel_room has 28 rows\n",
      "文山區 / Entire_home_apt has 445 rows\n",
      "文山區 / Shared_room has 74 rows\n",
      "大安區 / Private_room has 2839 rows\n",
      "大安區 / Hotel_room has 122 rows\n",
      "大安區 / Entire_home_apt has 4888 rows\n",
      "大安區 / Shared_room has 554 rows\n",
      "中山區 / Private_room has 2357 rows\n",
      "中山區 / Hotel_room has 931 rows\n",
      "中山區 / Entire_home_apt has 3015 rows\n",
      "中山區 / Shared_room has 236 rows\n",
      "南港區 / Private_room has 281 rows\n",
      "南港區 / Hotel_room has 24 rows\n",
      "南港區 / Entire_home_apt has 222 rows\n",
      "南港區 / Shared_room has 113 rows\n",
      "士林區 / Private_room has 739 rows\n",
      "士林區 / Hotel_room has 15 rows\n",
      "士林區 / Entire_home_apt has 863 rows\n",
      "士林區 / Shared_room has 219 rows\n",
      "內湖區 / Private_room has 469 rows\n",
      "內湖區 / Entire_home_apt has 394 rows\n",
      "內湖區 / Shared_room has 82 rows\n",
      "萬華區 / Private_room has 2508 rows\n",
      "萬華區 / Hotel_room has 891 rows\n",
      "萬華區 / Entire_home_apt has 6592 rows\n",
      "萬華區 / Shared_room has 800 rows\n",
      "北投區 / Private_room has 566 rows\n",
      "北投區 / Hotel_room has 56 rows\n",
      "北投區 / Entire_home_apt has 434 rows\n",
      "北投區 / Shared_room has 226 rows\n",
      "大同區 / Private_room has 1294 rows\n",
      "大同區 / Hotel_room has 575 rows\n",
      "大同區 / Entire_home_apt has 1394 rows\n",
      "大同區 / Shared_room has 445 rows\n",
      "信義區 / Private_room has 2081 rows\n",
      "信義區 / Hotel_room has 264 rows\n",
      "信義區 / Entire_home_apt has 2496 rows\n",
      "信義區 / Shared_room has 121 rows\n"
     ]
    }
   ],
   "source": [
    "cat_feats = df_train.select_dtypes(include=['category']).copy()\n",
    "unique_cat_feats = cat_feats.drop_duplicates()\n",
    "unique_neighbourhoods = list(unique_cat_feats['neighbourhood'].drop_duplicates())\n",
    "unique_room_types = list(unique_cat_feats['room_type'].drop_duplicates())\n",
    "\n",
    "hierarchical_dfs = {}\n",
    "for neighborhood in unique_neighbourhoods:\n",
    "    df_neighborhood = df_train[df_train['neighbourhood'] == neighborhood]\n",
    "    hierarchical_dfs[neighborhood] = {}\n",
    "    for room_type in unique_room_types:\n",
    "        sanitized_room_type = room_type.replace(\" \", \"_\").replace(\"/\", \"_\")\n",
    "        hierarchical_df = df_neighborhood[df_neighborhood['room_type'] == room_type]\n",
    "        if hierarchical_df.shape[0] > 0:\n",
    "            hierarchical_dfs[neighborhood][sanitized_room_type] = hierarchical_df.drop(columns = ['neighbourhood', 'room_type']).copy()\n",
    "            print(\"{} / {} has {} rows\".format(neighborhood, sanitized_room_type, hierarchical_df.shape[0]))"
   ]
  },
  {
   "cell_type": "markdown",
   "id": "6bbab2ff-dd38-4272-b868-f1aad7bee5b6",
   "metadata": {},
   "source": [
    "# Hierarchical Model Training"
   ]
  },
  {
   "cell_type": "code",
   "execution_count": 6,
   "id": "299812f4-d11d-423f-bfda-6859c36953af",
   "metadata": {},
   "outputs": [
    {
     "name": "stdout",
     "output_type": "stream",
     "text": [
      "training for 松山區 / Private_room\n",
      "training for 松山區 / Hotel_room\n",
      "training for 松山區 / Entire_home_apt\n",
      "training for 松山區 / Shared_room\n",
      "training for 中正區 / Private_room\n",
      "training for 中正區 / Hotel_room\n",
      "training for 中正區 / Entire_home_apt\n",
      "training for 中正區 / Shared_room\n",
      "training for 文山區 / Private_room\n",
      "training for 文山區 / Hotel_room\n",
      "training for 文山區 / Entire_home_apt\n",
      "training for 文山區 / Shared_room\n",
      "training for 大安區 / Private_room\n",
      "training for 大安區 / Hotel_room\n",
      "training for 大安區 / Entire_home_apt\n",
      "training for 大安區 / Shared_room\n",
      "training for 中山區 / Private_room\n",
      "training for 中山區 / Hotel_room\n",
      "training for 中山區 / Entire_home_apt\n",
      "training for 中山區 / Shared_room\n",
      "training for 南港區 / Private_room\n",
      "training for 南港區 / Hotel_room\n",
      "training for 南港區 / Entire_home_apt\n",
      "training for 南港區 / Shared_room\n",
      "training for 士林區 / Private_room\n",
      "training for 士林區 / Hotel_room\n",
      "training for 士林區 / Entire_home_apt\n",
      "training for 士林區 / Shared_room\n",
      "training for 內湖區 / Private_room\n",
      "training for 內湖區 / Entire_home_apt\n",
      "training for 內湖區 / Shared_room\n",
      "training for 萬華區 / Private_room\n",
      "training for 萬華區 / Hotel_room\n",
      "training for 萬華區 / Entire_home_apt\n",
      "training for 萬華區 / Shared_room\n",
      "training for 北投區 / Private_room\n",
      "training for 北投區 / Hotel_room\n",
      "training for 北投區 / Entire_home_apt\n",
      "training for 北投區 / Shared_room\n",
      "training for 大同區 / Private_room\n",
      "training for 大同區 / Hotel_room\n",
      "training for 大同區 / Entire_home_apt\n",
      "training for 大同區 / Shared_room\n",
      "training for 信義區 / Private_room\n",
      "training for 信義區 / Hotel_room\n",
      "training for 信義區 / Entire_home_apt\n",
      "training for 信義區 / Shared_room\n"
     ]
    }
   ],
   "source": [
    "from datetime import datetime\n",
    "from os.path import join\n",
    "from pathlib import Path\n",
    "\n",
    "bestparams = {\n",
    "    'colsample_bytree': 0.7,\n",
    "    'gamma': 0.2,\n",
    "    'learning_rate': 0.1,\n",
    "    'max_depth': 10,\n",
    "    'n_estimators': 500\n",
    "}\n",
    "\n",
    "model = {}\n",
    "multi_model_folder = \"model/multimodel_{}\".format(datetime.now().strftime(\"%Y%m%d_%H%M%S\"))\n",
    "Path(multi_model_folder).mkdir(parents=True)\n",
    "\n",
    "for neighborhood, room_type_dfs in hierarchical_dfs.items():\n",
    "    for room_type, df in hierarchical_dfs[neighborhood].items():\n",
    "        print(\"training for {} / {}\".format(neighborhood, room_type))\n",
    "        y_train = df[TARGET]\n",
    "        X_train = df.drop(columns=[TARGET])\n",
    "        # instantiate xgboost with best parameters\n",
    "        best_booster = xgb.XGBRegressor(\n",
    "            colsample_bytree=bestparams['colsample_bytree'],\n",
    "            gamma=bestparams['gamma'],\n",
    "            learning_rate=bestparams['learning_rate'],\n",
    "            max_depth=bestparams['max_depth'],\n",
    "            n_estimators=bestparams['n_estimators'],\n",
    "            random_state=4,\n",
    "            tree_method='gpu_hist',\n",
    "            gpu_id=0\n",
    "        )\n",
    "        \n",
    "        # train\n",
    "        best_booster.fit(X_train, y_train)\n",
    "        model_name = \"model.json\"\n",
    "        \n",
    "        # export model\n",
    "        model_folder = join(multi_model_folder, neighborhood, room_type)\n",
    "        Path(model_folder).mkdir(parents=True)\n",
    "        model_path = join(model_folder, model_name)\n",
    "        best_booster.save_model(model_path)"
   ]
  },
  {
   "cell_type": "markdown",
   "id": "9a719c9d-ec4c-48ca-a4ff-2a5768a02415",
   "metadata": {},
   "source": [
    "# Forecast with Holdout"
   ]
  },
  {
   "cell_type": "code",
   "execution_count": 7,
   "id": "7cbc75df-bb9c-4a49-a70d-6b1032cd3f21",
   "metadata": {},
   "outputs": [],
   "source": [
    "holdout = pd.read_csv('data/holdout/listings202103.csv', low_memory=False, dtype=utils.schema)"
   ]
  },
  {
   "cell_type": "code",
   "execution_count": 8,
   "id": "4dabeba0-9dfb-402f-8f2a-56b59ca4537d",
   "metadata": {},
   "outputs": [],
   "source": [
    "from sklearn.metrics import mean_squared_error, r2_score\n",
    "holdout = holdout.drop(columns=['neighbourhood_group', 'name', 'host_name', 'last_review'])\n",
    "holdout.reviews_per_month.fillna(value=0, inplace=True)\n",
    "holdout['neighbourhood'] = holdout.neighbourhood.astype('category')\n",
    "holdout['room_type'] = holdout.room_type.astype('category')\n",
    "\n",
    "cat_feats = holdout.select_dtypes(include=['category']).copy()\n",
    "unique_cat_feats = cat_feats.drop_duplicates()\n",
    "unique_neighbourhoods = list(unique_cat_feats['neighbourhood'].drop_duplicates())\n",
    "unique_room_types = list(unique_cat_feats['room_type'].drop_duplicates())\n",
    "\n",
    "hierarchical_score = {}\n",
    "for neighborhood in unique_neighbourhoods:\n",
    "    df_neighborhood = holdout[holdout['neighbourhood'] == neighborhood]\n",
    "    hierarchical_score[neighborhood] = {}\n",
    "    for room_type in unique_room_types:\n",
    "        sanitized_room_type = room_type.replace(\" \", \"_\").replace(\"/\", \"_\")\n",
    "        hierarchical_df = df_neighborhood[df_neighborhood['room_type'] == room_type]\n",
    "        if hierarchical_df.shape[0] > 0:\n",
    "            hierarchical_holdout = hierarchical_df.drop(columns = ['neighbourhood', 'room_type']).copy()\n",
    "            y_holdout = hierarchical_holdout[TARGET]\n",
    "            hierarchical_holdout.drop(columns=[TARGET], inplace=True)\n",
    "            # export model\n",
    "            model_folder = join(multi_model_folder, neighborhood, sanitized_room_type)\n",
    "            model_name = 'model.json'\n",
    "            model_path = join(model_folder, model_name)\n",
    "            model = xgb.XGBRegressor()\n",
    "            model.load_model(model_path)\n",
    "            y_pred = model.predict(hierarchical_holdout)\n",
    "            RMSE = np.sqrt(mean_squared_error(y_holdout,y_pred))\n",
    "            predictions = {\n",
    "                'holdout': hierarchical_holdout,\n",
    "                'y_pred': y_pred,\n",
    "                'y_holdout': y_holdout,\n",
    "                'RMSE': RMSE,\n",
    "            }\n",
    "            hierarchical_score[neighborhood][sanitized_room_type] = predictions"
   ]
  },
  {
   "cell_type": "code",
   "execution_count": 9,
   "id": "62d0a67c-287c-4ad7-9fed-92b90c066966",
   "metadata": {},
   "outputs": [
    {
     "name": "stdout",
     "output_type": "stream",
     "text": [
      "RMSE: 4149.936\n"
     ]
    }
   ],
   "source": [
    "y_pred = []\n",
    "y_holdout = []\n",
    "for neighborhood, room_type_scores in hierarchical_score.items():\n",
    "    for room_type, score in room_type_scores.items():\n",
    "        y_pred.append(score['y_pred'])\n",
    "        y_holdout.append(score['y_holdout'])\n",
    "y_pred = np.concatenate(y_pred)\n",
    "y_holdout = np.concatenate(y_holdout)\n",
    "RMSE = np.sqrt(mean_squared_error(y_holdout,y_pred))\n",
    "print(f\"RMSE: {round(RMSE, 4)}\")"
   ]
  },
  {
   "cell_type": "markdown",
   "id": "df473380-3172-4b96-aba9-7e9391b0d407",
   "metadata": {},
   "source": [
    "## Further Investigate Performance by Segment"
   ]
  },
  {
   "cell_type": "code",
   "execution_count": 10,
   "id": "fec7f884-9684-468c-b2d7-b1beb51a9c50",
   "metadata": {},
   "outputs": [
    {
     "name": "stdout",
     "output_type": "stream",
     "text": [
      "松山區 / Private_room has really bad performance: 13973.357368491892\n",
      "內湖區 / Private_room has really bad performance: 13023.306786451742\n",
      "RMSE: 3465.0202\n"
     ]
    }
   ],
   "source": [
    "y_pred = []\n",
    "y_holdout = []\n",
    "for neighborhood, room_type_scores in hierarchical_score.items():\n",
    "    for room_type, score in room_type_scores.items():\n",
    "        if score['RMSE'] < 10000:\n",
    "            y_pred.append(score['y_pred'])\n",
    "            y_holdout.append(score['y_holdout'])\n",
    "        else:\n",
    "            print(\"{} / {} has really bad performance: {}\".format(neighborhood, room_type, score['RMSE']))\n",
    "y_pred = np.concatenate(y_pred)\n",
    "y_holdout = np.concatenate(y_holdout)\n",
    "RMSE = np.sqrt(mean_squared_error(y_holdout,y_pred))\n",
    "print(f\"RMSE: {round(RMSE, 4)}\")"
   ]
  },
  {
   "cell_type": "markdown",
   "id": "e2f57bfe-79e0-4b8b-a94a-161605dd9ca7",
   "metadata": {},
   "source": [
    "### Check on price distribution for the abnormal district"
   ]
  },
  {
   "cell_type": "code",
   "execution_count": 16,
   "id": "8b5a991f-df83-4f1e-b138-e8ddbdae8c3e",
   "metadata": {},
   "outputs": [
    {
     "data": {
      "text/plain": [
       "count     1571.000000\n",
       "mean      2068.362190\n",
       "std       6358.816385\n",
       "min        251.000000\n",
       "25%        864.000000\n",
       "50%       1193.000000\n",
       "75%       1789.000000\n",
       "max      99999.000000\n",
       "Name: price, dtype: float64"
      ]
     },
     "execution_count": 16,
     "metadata": {},
     "output_type": "execute_result"
    }
   ],
   "source": [
    "neighbor_condition = (df_train['neighbourhood'] == '松山區') | (df_train['neighbourhood'] == '內湖區')\n",
    "room_type_cndition = df_train['room_type'] == 'Private room'\n",
    "df_train[neighbor_condition & room_type_cndition][TARGET].describe()"
   ]
  },
  {
   "cell_type": "code",
   "execution_count": 17,
   "id": "eb931304-9591-4f52-b825-3acad81b7006",
   "metadata": {},
   "outputs": [
    {
     "data": {
      "text/plain": [
       "count       157.00000\n",
       "mean       3810.33121\n",
       "std       12636.79219\n",
       "min         256.00000\n",
       "25%        1146.00000\n",
       "50%        1424.00000\n",
       "75%        2526.00000\n",
       "max      146557.00000\n",
       "Name: price, dtype: float64"
      ]
     },
     "execution_count": 17,
     "metadata": {},
     "output_type": "execute_result"
    }
   ],
   "source": [
    "neighbor_condition = (holdout['neighbourhood'] == '松山區') | (df_train['neighbourhood'] == '內湖區')\n",
    "room_type_cndition = holdout['room_type'] == 'Private room'\n",
    "holdout[neighbor_condition & room_type_cndition][TARGET].describe()"
   ]
  },
  {
   "cell_type": "markdown",
   "id": "618d3db7-9544-4e40-b36a-20a72396b525",
   "metadata": {},
   "source": [
    "### Filter records contributing to bad performance"
   ]
  },
  {
   "cell_type": "code",
   "execution_count": 15,
   "id": "2590f0bd-72ed-4ae2-9847-6759483d19a0",
   "metadata": {},
   "outputs": [
    {
     "data": {
      "text/html": [
       "<div>\n",
       "<style scoped>\n",
       "    .dataframe tbody tr th:only-of-type {\n",
       "        vertical-align: middle;\n",
       "    }\n",
       "\n",
       "    .dataframe tbody tr th {\n",
       "        vertical-align: top;\n",
       "    }\n",
       "\n",
       "    .dataframe thead th {\n",
       "        text-align: right;\n",
       "    }\n",
       "</style>\n",
       "<table border=\"1\" class=\"dataframe\">\n",
       "  <thead>\n",
       "    <tr style=\"text-align: right;\">\n",
       "      <th></th>\n",
       "      <th>id</th>\n",
       "      <th>host_id</th>\n",
       "      <th>minimum_nights</th>\n",
       "      <th>number_of_reviews</th>\n",
       "      <th>reviews_per_month</th>\n",
       "      <th>calculated_host_listings_count</th>\n",
       "      <th>availability_365</th>\n",
       "      <th>price</th>\n",
       "      <th>y_pred</th>\n",
       "    </tr>\n",
       "  </thead>\n",
       "  <tbody>\n",
       "    <tr>\n",
       "      <th>5107</th>\n",
       "      <td>47730011</td>\n",
       "      <td>175128252</td>\n",
       "      <td>1</td>\n",
       "      <td>0</td>\n",
       "      <td>0.0</td>\n",
       "      <td>37</td>\n",
       "      <td>363</td>\n",
       "      <td>146557</td>\n",
       "      <td>6992.318359</td>\n",
       "    </tr>\n",
       "    <tr>\n",
       "      <th>5110</th>\n",
       "      <td>47742212</td>\n",
       "      <td>175128252</td>\n",
       "      <td>1</td>\n",
       "      <td>0</td>\n",
       "      <td>0.0</td>\n",
       "      <td>37</td>\n",
       "      <td>274</td>\n",
       "      <td>40149</td>\n",
       "      <td>5372.949707</td>\n",
       "    </tr>\n",
       "    <tr>\n",
       "      <th>5227</th>\n",
       "      <td>48599863</td>\n",
       "      <td>175128252</td>\n",
       "      <td>1</td>\n",
       "      <td>0</td>\n",
       "      <td>0.0</td>\n",
       "      <td>37</td>\n",
       "      <td>274</td>\n",
       "      <td>49559</td>\n",
       "      <td>3777.898682</td>\n",
       "    </tr>\n",
       "  </tbody>\n",
       "</table>\n",
       "</div>"
      ],
      "text/plain": [
       "            id    host_id  minimum_nights  number_of_reviews  \\\n",
       "5107  47730011  175128252               1                  0   \n",
       "5110  47742212  175128252               1                  0   \n",
       "5227  48599863  175128252               1                  0   \n",
       "\n",
       "      reviews_per_month  calculated_host_listings_count  availability_365  \\\n",
       "5107                0.0                              37               363   \n",
       "5110                0.0                              37               274   \n",
       "5227                0.0                              37               274   \n",
       "\n",
       "       price       y_pred  \n",
       "5107  146557  6992.318359  \n",
       "5110   40149  5372.949707  \n",
       "5227   49559  3777.898682  "
      ]
     },
     "execution_count": 15,
     "metadata": {},
     "output_type": "execute_result"
    }
   ],
   "source": [
    "bad_score = hierarchical_score['松山區']['Private_room']\n",
    "bad_holdout = bad_score['holdout']\n",
    "bad_holdout[TARGET] = bad_score['y_holdout']\n",
    "bad_holdout['y_pred'] = bad_score['y_pred']\n",
    "bad_holdout = bad_holdout.drop(columns=[\"latitude\", \"longitude\"])\n",
    "diff = bad_score['y_holdout'] - bad_score['y_pred']\n",
    "bad_holdout[diff * diff > 1.0e+8]"
   ]
  },
  {
   "cell_type": "markdown",
   "id": "395dfc67-746b-4d20-b193-7a97ff6b1057",
   "metadata": {},
   "source": [
    "### Turned out the one single host is messing up with all of our prediction"
   ]
  },
  {
   "cell_type": "code",
   "execution_count": 26,
   "id": "129d0c1d-53e0-4d35-b201-341efde80473",
   "metadata": {},
   "outputs": [
    {
     "data": {
      "text/plain": [
       "count       70.000000\n",
       "mean      6665.271429\n",
       "std       8439.308054\n",
       "min       1383.000000\n",
       "25%       2051.750000\n",
       "50%       3223.000000\n",
       "75%       6627.500000\n",
       "max      43129.000000\n",
       "Name: price, dtype: float64"
      ]
     },
     "execution_count": 26,
     "metadata": {},
     "output_type": "execute_result"
    }
   ],
   "source": [
    "df_raw[df_raw['host_id'] == 175128252][TARGET].describe()"
   ]
  },
  {
   "cell_type": "code",
   "execution_count": 25,
   "id": "4fb20262-4ca6-4217-9044-65f90670627a",
   "metadata": {},
   "outputs": [
    {
     "data": {
      "text/plain": [
       "count        2.00000\n",
       "mean     11157.00000\n",
       "std        270.11479\n",
       "min      10966.00000\n",
       "25%      11061.50000\n",
       "50%      11157.00000\n",
       "75%      11252.50000\n",
       "max      11348.00000\n",
       "Name: price, dtype: float64"
      ]
     },
     "execution_count": 25,
     "metadata": {},
     "output_type": "execute_result"
    }
   ],
   "source": [
    "df_raw[df_raw['id'] == 47730011][TARGET].describe()"
   ]
  }
 ],
 "metadata": {
  "kernelspec": {
   "display_name": "Python [conda env:airbnb] *",
   "language": "python",
   "name": "conda-env-airbnb-py"
  },
  "language_info": {
   "codemirror_mode": {
    "name": "ipython",
    "version": 3
   },
   "file_extension": ".py",
   "mimetype": "text/x-python",
   "name": "python",
   "nbconvert_exporter": "python",
   "pygments_lexer": "ipython3",
   "version": "3.8.10"
  }
 },
 "nbformat": 4,
 "nbformat_minor": 5
}
